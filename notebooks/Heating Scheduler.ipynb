{
 "cells": [
  {
   "cell_type": "markdown",
   "metadata": {},
   "source": [
    "# Heating Scheduler Example\n",
    "\n",
    "Once you retrieved your authentication information from the MIA app, you can setup the client and begin with an initial device/room discovery:"
   ]
  },
  {
   "cell_type": "code",
   "execution_count": null,
   "metadata": {},
   "outputs": [],
   "source": [
    "import logging\n",
    "\n",
    "from environs import Env\n",
    "\n",
    "import iolite\n",
    "\n",
    "from iolite_client.client import IOLiteClient\n",
    "from iolite_client.oauth_handler import OAuthHandler, OAuthStorage, OAuthWrapper\n",
    "\n",
    "env = Env()\n",
    "env.read_env()\n",
    "\n",
    "USERNAME = env(\"HTTP_USERNAME\")\n",
    "PASSWORD = env(\"HTTP_PASSWORD\")\n",
    "CODE = env(\"CODE\")\n",
    "NAME = env(\"NAME\")\n",
    "LOG_LEVEL = env.log_level(\"LOG_LEVEL\", logging.INFO)\n",
    "\n",
    "logging.basicConfig(level=logging.getLevelName(LOG_LEVEL))\n",
    "logger = logging.getLogger(__name__)\n",
    "\n",
    "\n",
    "# Get SID\n",
    "oauth_storage = OAuthStorage(\"../\")\n",
    "oauth_handler = OAuthHandler(USERNAME, PASSWORD)\n",
    "oauth_wrapper = OAuthWrapper(oauth_handler, oauth_storage)\n",
    "sid = oauth_wrapper.get_sid(CODE, NAME)\n",
    "\n",
    "client = IOLiteClient(sid, USERNAME, PASSWORD)\n",
    "client.discover()"
   ]
  },
  {
   "cell_type": "markdown",
   "metadata": {},
   "source": [
    "Once the discovery is complete (when you see the \"QuerySuccess\" message), you can manipulate the heating intervals using the HeatingScheduler.\n",
    "\n",
    "Note: If you renamed the rooms in your Mia app, the room name in the client name may not be the same as shown in the app. Use client.discovered.get_rooms() instead, to get a list of all rooms."
   ]
  },
  {
   "cell_type": "code",
   "execution_count": null,
   "metadata": {},
   "outputs": [],
   "source": [
    "from iolite_client.heating_scheduler import HeatingScheduler, Day\n",
    "room = client.discovered.find_room_by_name(\"Raum1\")\n",
    "heating_scheduler = HeatingScheduler(sid, USERNAME, PASSWORD, room.identifier)"
   ]
  },
  {
   "cell_type": "markdown",
   "metadata": {},
   "source": [
    "So far, you can set the comfort temperature:"
   ]
  },
  {
   "cell_type": "code",
   "execution_count": null,
   "metadata": {},
   "outputs": [],
   "source": [
    "response = heating_scheduler.set_comfort_temperature(20.5)\n",
    "response"
   ]
  },
  {
   "cell_type": "markdown",
   "metadata": {},
   "source": [
    "Add new heating intervals:"
   ]
  },
  {
   "cell_type": "code",
   "execution_count": null,
   "metadata": {},
   "outputs": [],
   "source": [
    "# add a new interval on Sunday lasting from 2am to 4am - be careful not to overlap with existing intervals,\n",
    "# otherwise existing intervals will be merged into the newly created interval.\n",
    "# This also applies to \"nearby\" intervals (e.g. an existing interval beginning at 7 will be merged with a new interval ending at 7)\n",
    "response = heating_scheduler.add_interval(Day.SUNDAY, 2, 0, 120)\n",
    "created = response.json()[\"id\"]\n",
    "response"
   ]
  },
  {
   "cell_type": "markdown",
   "metadata": {},
   "source": [
    "And delete existing intervals (here we delete the interval we just created):"
   ]
  },
  {
   "cell_type": "code",
   "execution_count": null,
   "metadata": {},
   "outputs": [],
   "source": [
    "response = heating_scheduler.delete_interval(created)\n",
    "response"
   ]
  },
  {
   "cell_type": "code",
   "execution_count": null,
   "metadata": {},
   "outputs": [],
   "source": []
  }
 ],
 "metadata": {
  "kernelspec": {
   "display_name": "Python 3",
   "language": "python",
   "name": "python3"
  },
  "language_info": {
   "codemirror_mode": {
    "name": "ipython",
    "version": 3
   },
   "file_extension": ".py",
   "mimetype": "text/x-python",
   "name": "python",
   "nbconvert_exporter": "python",
   "pygments_lexer": "ipython3",
   "version": "3.8.2"
  }
 },
 "nbformat": 4,
 "nbformat_minor": 4
}
